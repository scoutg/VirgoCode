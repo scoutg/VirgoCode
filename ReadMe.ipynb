{
 "cells": [
  {
   "cell_type": "markdown",
   "metadata": {},
   "source": [
    "This file will contain descriptions of files in this repository"
   ]
  },
  {
   "cell_type": "markdown",
   "metadata": {},
   "source": [
    "mstarPlots.ipynb:"
   ]
  },
  {
   "cell_type": "markdown",
   "metadata": {},
   "source": [
    "    This file creates plots of the virgo cluster from the data nsa_mstar.virgo.fits, found at https://github.com/rfinn/Virgo. Specifically, these plots are the galaxies plotted in RA and DEC with Z(radial velocity) used to color code the points. Each plot only shows the galaxies above a constraint minimum mass. The mass data used for the filtering is MSTAR_50."
   ]
  },
  {
   "cell_type": "markdown",
   "metadata": {},
   "source": [
    "all-HI.2018Feb18.tc.txt: "
   ]
  },
  {
   "cell_type": "markdown",
   "metadata": {},
   "source": [
    "    This file is an edited version of all-HI.2018Feb18.txt to make it TopCat readable."
   ]
  },
  {
   "cell_type": "markdown",
   "metadata": {},
   "source": [
    "MakingHIRowMatch.ipynb & HIRowMatch.fits:"
   ]
  },
  {
   "cell_type": "markdown",
   "metadata": {},
   "source": [
    "    HIRowMatch.fits is a file that combines the data from all-HI.2018Feb18.txt with the indexing of CO-MasterFile-2018Feb16.fits. The file contains rows for all the galaxies in CO-MasterFile-2018Feb16.fits but the data is all zeroes except for the data transfered from all-HI.2018Feb18.txt."
   ]
  },
  {
   "cell_type": "markdown",
   "metadata": {},
   "source": [
    "fwhmPlots.ipynb:"
   ]
  },
  {
   "cell_type": "markdown",
   "metadata": {},
   "source": [
    "    This file was intended to create plots of the FWHM data from the HI file versus the MSTAR_50 data from the nsa_mstar.virgo.fits. However, the names of galaxies in these two sets of files do not match making correlating the data between the files difficult. I attempted to write a series of for loops to match the RA and Dec of the galaxies between the files but quickly realized that the two files RAs and Decs would never exactly match. The two files included different numbers of significant figures and used different measurements of position to obtain their coordinates. I tried to reconcile this by rounding at first then I switched to trying to make astropy.coordinates work. I repeatedly get units errors when I attempt to run this code and the example notebook I have found online seem to be experiencing similar problems. For details see fwhmPlotsInProgress.ipynb."
   ]
  }
 ],
 "metadata": {
  "kernelspec": {
   "display_name": "Python 3",
   "language": "python",
   "name": "python3"
  },
  "language_info": {
   "codemirror_mode": {
    "name": "ipython",
    "version": 3
   },
   "file_extension": ".py",
   "mimetype": "text/x-python",
   "name": "python",
   "nbconvert_exporter": "python",
   "pygments_lexer": "ipython3",
   "version": "3.6.3"
  }
 },
 "nbformat": 4,
 "nbformat_minor": 2
}
