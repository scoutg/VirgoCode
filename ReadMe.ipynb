{
 "cells": [
  {
   "cell_type": "markdown",
   "metadata": {},
   "source": [
    "This file will contain descriptions of files in this repository"
   ]
  },
  {
   "cell_type": "markdown",
   "metadata": {},
   "source": [
    "mstarPlots.ipynb\n",
    "    This file creates plots of the virgo cluster from the data nsa_mstar.virgo.fits, found at https://github.com/rfinn/Virgo. Specifically, these plots are the galaxies plotted in RA and DEC with Z(radial velocity) used to color code the points. Each plot only shows the galaxies above a constraint minimum mass. The mass data used for the filtering is MSTAR_50."
   ]
  },
  {
   "cell_type": "markdown",
   "metadata": {},
   "source": [
    "all-HI.2018Feb18.tc.txt \n",
    "    This file is an edited version of all-HI.2018Feb18.txt to make it TopCat readable."
   ]
  },
  {
   "cell_type": "markdown",
   "metadata": {},
   "source": [
    "MakingHIRowMatch.ipynb & HIRowMatch.fits\n",
    "    HIRowMatch.fits is a file that combines the data from all-HI.2018Feb18.txt with the indexing of CO-MasterFile-2018Feb16.fits. The file contains rows for all the galaxies in CO-MasterFile-2018Feb16.fits but the data is all zeroes except for the data transfered from all-HI.2018Feb18.txt."
   ]
  }
 ],
 "metadata": {
  "kernelspec": {
   "display_name": "Python 3",
   "language": "python",
   "name": "python3"
  },
  "language_info": {
   "codemirror_mode": {
    "name": "ipython",
    "version": 3
   },
   "file_extension": ".py",
   "mimetype": "text/x-python",
   "name": "python",
   "nbconvert_exporter": "python",
   "pygments_lexer": "ipython3",
   "version": "3.6.3"
  }
 },
 "nbformat": 4,
 "nbformat_minor": 2
}
