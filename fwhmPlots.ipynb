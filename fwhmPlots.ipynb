{
 "cells": [
  {
   "cell_type": "code",
   "execution_count": 1,
   "metadata": {
    "collapsed": true
   },
   "outputs": [],
   "source": [
    "import os\n",
    "import numpy as np\n",
    "import matplotlib.pyplot as plt\n",
    "import pandas as pd\n",
    "import scipy.stats as stats\n",
    "from astropy.io import fits"
   ]
  },
  {
   "cell_type": "code",
   "execution_count": 2,
   "metadata": {
    "collapsed": true
   },
   "outputs": [],
   "source": [
    "os.chdir(\"/Users/hannahgibson/Dropbox/work/galaxy work\")"
   ]
  },
  {
   "cell_type": "code",
   "execution_count": 7,
   "metadata": {
    "collapsed": true
   },
   "outputs": [],
   "source": [
    "mstar = fits.open('nsa_mstar.virgo.fits')\n",
    "H = fits.open('HIRowMatch.fits')"
   ]
  },
  {
   "cell_type": "code",
   "execution_count": 8,
   "metadata": {},
   "outputs": [],
   "source": [
    "mstarData = mstar[1].data\n",
    "Hdata = H[1].data"
   ]
  },
  {
   "cell_type": "markdown",
   "metadata": {},
   "source": [
    "FWHM v.MSTAR_50"
   ]
  },
  {
   "cell_type": "code",
   "execution_count": 9,
   "metadata": {
    "scrolled": true
   },
   "outputs": [],
   "source": [
    "mass = mstarData.field('MSTAR_50')\n",
    "FWHM = Hdata.field('FWHM')"
   ]
  },
  {
   "cell_type": "code",
   "execution_count": 24,
   "metadata": {},
   "outputs": [
    {
     "name": "stdout",
     "output_type": "stream",
     "text": [
      "name:\n",
      "    ['ISEDFIT_ID', 'RA', 'DEC', 'Z', 'MAGGIES', 'IVARMAGGIES', 'BESTMAGGIES', 'CHUNKINDX', 'MODELINDX', 'DELAYED', 'BURSTTYPE', 'CHI2', 'TOTALMASS', 'TOTALMASS_ERR', 'MSTAR', 'AGE', 'SFRAGE', 'TAU', 'ZMETAL', 'AV', 'MU', 'OIIIHB', 'NLYC', 'SFR', 'SFR100', 'B100', 'B1000', 'EWOII', 'EWOIIIHB', 'EWNIIHA', 'NBURST', 'TRUNCTAU', 'TBURST', 'DTBURST', 'FBURST', 'MSTAR_50', 'AGE_50', 'SFRAGE_50', 'TAU_50', 'ZMETAL_50', 'AV_50', 'MU_50', 'OIIIHB_50', 'SFR_50', 'SFR100_50', 'B100_50', 'B1000_50', 'EWOII_50', 'EWOIIIHB_50', 'EWNIIHA_50', 'MSTAR_AVG', 'AGE_AVG', 'SFRAGE_AVG', 'TAU_AVG', 'ZMETAL_AVG', 'AV_AVG', 'MU_AVG', 'OIIIHB_AVG', 'SFR_AVG', 'SFR100_AVG', 'B100_AVG', 'B1000_AVG', 'EWOII_AVG', 'EWOIIIHB_AVG', 'EWNIIHA_AVG', 'MSTAR_ERR', 'AGE_ERR', 'SFRAGE_ERR', 'TAU_ERR', 'ZMETAL_ERR', 'AV_ERR', 'MU_ERR', 'OIIIHB_ERR', 'SFR_ERR', 'SFR100_ERR', 'B100_ERR', 'B1000_ERR', 'EWOII_ERR', 'EWOIIIHB_ERR', 'EWNIIHA_ERR']\n",
      "format:\n",
      "    ['J', 'D', 'D', 'E', '7E', '7E', '7E', 'I', 'I', 'J', 'J', 'E', 'E', 'E', 'E', 'E', 'E', 'E', 'E', 'E', 'E', 'E', 'E', 'E', 'E', 'E', 'E', 'E', 'E', 'E', 'I', 'E', '7E', '7E', '7E', 'E', 'E', 'E', 'E', 'E', 'E', 'E', 'E', 'E', 'E', 'E', 'E', 'E', 'E', 'E', 'E', 'E', 'E', 'E', 'E', 'E', 'E', 'E', 'E', 'E', 'E', 'E', 'E', 'E', 'E', 'E', 'E', 'E', 'E', 'E', 'E', 'E', 'E', 'E', 'E', 'E', 'E', 'E', 'E', 'E']\n",
      "unit:\n",
      "    ['', '', '', '', '', '', '', '', '', '', '', '', '', '', '', '', '', '', '', '', '', '', '', '', '', '', '', '', '', '', '', '', '', '', '', '', '', '', '', '', '', '', '', '', '', '', '', '', '', '', '', '', '', '', '', '', '', '', '', '', '', '', '', '', '', '', '', '', '', '', '', '', '', '', '', '', '', '', '', '']\n",
      "null:\n",
      "    ['', '', '', '', '', '', '', '', '', '', '', '', '', '', '', '', '', '', '', '', '', '', '', '', '', '', '', '', '', '', '', '', '', '', '', '', '', '', '', '', '', '', '', '', '', '', '', '', '', '', '', '', '', '', '', '', '', '', '', '', '', '', '', '', '', '', '', '', '', '', '', '', '', '', '', '', '', '', '', '']\n",
      "bscale:\n",
      "    ['', '', '', '', '', '', '', '', '', '', '', '', '', '', '', '', '', '', '', '', '', '', '', '', '', '', '', '', '', '', '', '', '', '', '', '', '', '', '', '', '', '', '', '', '', '', '', '', '', '', '', '', '', '', '', '', '', '', '', '', '', '', '', '', '', '', '', '', '', '', '', '', '', '', '', '', '', '', '', '']\n",
      "bzero:\n",
      "    ['', '', '', '', '', '', '', '', '', '', '', '', '', '', '', '', '', '', '', '', '', '', '', '', '', '', '', '', '', '', '', '', '', '', '', '', '', '', '', '', '', '', '', '', '', '', '', '', '', '', '', '', '', '', '', '', '', '', '', '', '', '', '', '', '', '', '', '', '', '', '', '', '', '', '', '', '', '', '', '']\n",
      "disp:\n",
      "    ['', '', '', '', '', '', '', '', '', '', '', '', '', '', '', '', '', '', '', '', '', '', '', '', '', '', '', '', '', '', '', '', '', '', '', '', '', '', '', '', '', '', '', '', '', '', '', '', '', '', '', '', '', '', '', '', '', '', '', '', '', '', '', '', '', '', '', '', '', '', '', '', '', '', '', '', '', '', '', '']\n",
      "start:\n",
      "    ['', '', '', '', '', '', '', '', '', '', '', '', '', '', '', '', '', '', '', '', '', '', '', '', '', '', '', '', '', '', '', '', '', '', '', '', '', '', '', '', '', '', '', '', '', '', '', '', '', '', '', '', '', '', '', '', '', '', '', '', '', '', '', '', '', '', '', '', '', '', '', '', '', '', '', '', '', '', '', '']\n",
      "dim:\n",
      "    ['', '', '', '', '', '', '', '', '', '', '', '', '', '', '', '', '', '', '', '', '', '', '', '', '', '', '', '', '', '', '', '', '', '', '', '', '', '', '', '', '', '', '', '', '', '', '', '', '', '', '', '', '', '', '', '', '', '', '', '', '', '', '', '', '', '', '', '', '', '', '', '', '', '', '', '', '', '', '', '']\n"
     ]
    }
   ],
   "source": [
    "colsm = mstar[1].columns\n",
    "colsm.info()"
   ]
  },
  {
   "cell_type": "code",
   "execution_count": 25,
   "metadata": {},
   "outputs": [
    {
     "data": {
      "text/plain": [
       "array([     2,      5,      6, ..., 145105, 145110, 145151], dtype=int32)"
      ]
     },
     "execution_count": 25,
     "metadata": {},
     "output_type": "execute_result"
    }
   ],
   "source": [
    "MNames = mstarData.field('ISEDFIT_ID')\n",
    "MNames"
   ]
  },
  {
   "cell_type": "code",
   "execution_count": 26,
   "metadata": {},
   "outputs": [
    {
     "data": {
      "text/plain": [
       "chararray(['CGCG118-019', 'IC2256', 'NGC2577', 'UGC4375', 'IC2361',\n",
       "           'UGC4395', 'NGC2592', 'NGC2594', 'SHOC206b', 'NGC2604',\n",
       "           'KUG0830+278', 'NGC2608', 'UGC4551', 'UGC4559', 'KUG0848+311',\n",
       "           'NGC2679', 'UGC4659', 'PGC25063', 'NGC2712', 'CGCG150-056',\n",
       "           'UGC4722', 'NGC2780', 'NGC2793', 'IC2450', 'NGC2798', 'NGC2799',\n",
       "           'NGC2844', 'NGC2852', 'NGC2853', 'NGC2859', 'UGC5015',\n",
       "           'UGC5020', 'NGC2893', 'KUG0933+293', 'NGC2964', 'NGC2968',\n",
       "           'NGC2970', 'MRK408', 'NGC3003', 'NGC3026', 'NGC3021', 'UGC5287',\n",
       "           'NGC3032', 'UGC5326', 'NGC3067', 'NGC3098', 'UGCA201',\n",
       "           'NGC3118', 'IC598', 'NGC3193', 'UGC5577', 'UGC5588', 'NGC3245A',\n",
       "           'NGC3245', 'NGC3248', 'NGC3254', 'NGC3265', 'NGC3277',\n",
       "           'KUG1032+379B', 'CGCG124-041', 'NGC3294', 'UGC5870', 'NGC3380',\n",
       "           'NGC3381', 'NGC3424', 'NGC3430', 'UGC5990', 'NGC3442',\n",
       "           'UGC6070', 'NGC3504', 'NGC3595', 'NGC3629', 'NGC3648',\n",
       "           'NGC3658', 'NGC3665', 'UGC6455', 'NGC3687', 'NGC3689',\n",
       "           'NGC3694', 'KUG1127+385', 'KUG1128+358', 'KUG1128+368',\n",
       "           'UGC6517', 'UGC6526', 'KUG1130+337', 'UGC6545', 'UGC6610',\n",
       "           'NGC3786', 'NGC3788', 'UGC6637', 'NGC3900', 'UGC6791',\n",
       "           'NGC3899', 'UGC7039', 'UGC7143', 'NGC4152', 'PGC38859', 'IC777',\n",
       "           'NGC4793', 'UGC8076', 'NGC4961', 'IC851', 'NGC5012', 'NGC5016',\n",
       "           'NGC5012A', 'UGC8318', 'NGC5089', 'NGC5116', 'NGC5117',\n",
       "           'UGC8409', 'NGC5169', 'NGC5173', 'IC4263', 'PGC47274',\n",
       "           'CGCG246-005', 'NGC5198', 'NGC5240', 'NGC5248', 'UGC8630',\n",
       "           'UGC8656', 'UGC8662', 'UGC8693', 'NGC5289', 'NGC5290',\n",
       "           'NGC5297', 'NGC5300', 'UGC8733', 'MRK1484', 'NGC5311',\n",
       "           'UGC8736', 'NGC5313', 'NGC5320', 'IC4336', 'NGC5326', 'MRK462',\n",
       "           'NGC5336', 'NGC5337', 'ASK322610', 'NGC5346', 'NGC5347',\n",
       "           'NGC5350', 'NGC5353', 'NGC5355', 'CGCG219-021', 'NGC5358',\n",
       "           'NGC5348', 'NGC5362', 'NGC5356', 'NGC5360', 'NGC5371',\n",
       "           'NGC5363', 'NGC5364', 'NGC5375', 'NGC5383', 'NGC5403', 'ARK435',\n",
       "           'KUG1358+387', 'MRK465', 'NGC5470', 'NGC5560', 'NGC5566',\n",
       "           'NGC5574', 'NGC5576', 'NGC5577', 'UGC9215', 'NGC5636',\n",
       "           'NGC5638', 'IC1022', 'NGC5645', 'IC1024', 'NGC5661', 'UGC9348',\n",
       "           'NGC5668', 'NGC5692', 'NGC5701', 'NGC5725', 'IC1048', 'NGC5740',\n",
       "           'NGC5746', 'UGC9556', 'NGC5777', 'IC1066', 'IC1067', 'NGC5770',\n",
       "           'NGC5806', 'NGC5813', 'UGC9661', 'NGC5831', 'NGC5838',\n",
       "           'NGC5839', 'ASK110438', 'NGC5845', 'NGC5846', 'NGC5854',\n",
       "           'CGCG021-013', 'NGC5864', 'NGC5869', 'NGC5894', 'MRK847',\n",
       "           'CGCG021-058', 'UGC9837', 'NGC5951', 'NGC5953', 'NGC5954',\n",
       "           'NGC5956', 'NGC5957', 'NGC5981', 'NGC5970', 'NGC5982',\n",
       "           'NGC5985', 'NGC5989', 'UGC9991', 'NGC6012', 'UGC10086',\n",
       "           'IC1151', 'IC1210', 'ARK499', 'UGC10297', 'UGC10413', 'NGC6181',\n",
       "           'NGC6186', 'NGC6267', 'NGC6276', 'NGC6278', 'NGC6306',\n",
       "           'UGC10721', 'UGC10968'],\n",
       "          dtype='<U20')"
      ]
     },
     "execution_count": 26,
     "metadata": {},
     "output_type": "execute_result"
    }
   ],
   "source": [
    "FNames = Hdata.field('Names')\n",
    "FNames"
   ]
  },
  {
   "cell_type": "code",
   "execution_count": 21,
   "metadata": {
    "scrolled": true
   },
   "outputs": [
    {
     "name": "stdout",
     "output_type": "stream",
     "text": [
      "name:\n",
      "    ['NED_name', 'SDSS_ID', 'RA', 'DEC', 'CO', 'CO_DETECT', 'HI', 'HImass', 'H2mass', 'H2mass_upperlimit', 'CO10_area', 'CO10_area_err', 'CO10_V', 'CO10_V_err', 'CO10_DV', 'CO10_DV_err', 'CO10_Tpeak', 'CO10_Tpeak_err', 'CO10_rms', 'CO21_area', 'CO21_area_err', 'CO21_V', 'CO21_V_err', 'CO21_DV', 'CO21_DV_err', 'CO21_Tpeak', 'CO21_Tpeak_err', 'CO21_rms']\n",
      "format:\n",
      "    ['20A', '20A', 'E', 'E', '2A', 'J', 'J', 'E', 'D', 'I', 'E', 'E', 'E', 'E', 'E', 'E', 'E', 'E', 'E', 'E', 'E', 'E', 'E', 'E', 'E', 'E', 'E', 'E']\n",
      "unit:\n",
      "    ['', '', '', '', '', '', '', '', '', '', '', '', '', '', '', '', '', '', '', '', '', '', '', '', '', '', '', '']\n",
      "null:\n",
      "    ['', '', '', '', '', '', '', '', '', '', '', '', '', '', '', '', '', '', '', '', '', '', '', '', '', '', '', '']\n",
      "bscale:\n",
      "    ['', '', '', '', '', '', '', '', '', '', '', '', '', '', '', '', '', '', '', '', '', '', '', '', '', '', '', '']\n",
      "bzero:\n",
      "    ['', '', '', '', '', '', '', '', '', '', '', '', '', '', '', '', '', '', '', '', '', '', '', '', '', '', '', '']\n",
      "disp:\n",
      "    ['', '', '', '', '', '', '', '', '', '', '', '', '', '', '', '', '', '', '', '', '', '', '', '', '', '', '', '']\n",
      "start:\n",
      "    ['', '', '', '', '', '', '', '', '', '', '', '', '', '', '', '', '', '', '', '', '', '', '', '', '', '', '', '']\n",
      "dim:\n",
      "    ['', '', '', '', '', '', '', '', '', '', '', '', '', '', '', '', '', '', '', '', '', '', '', '', '', '', '', '']\n"
     ]
    }
   ],
   "source": [
    "co = fits.open('CO-MasterFile-2018Feb16.fits')\n",
    "cols = co[1].columns\n",
    "cols.info()"
   ]
  },
  {
   "cell_type": "code",
   "execution_count": 22,
   "metadata": {},
   "outputs": [
    {
     "data": {
      "text/plain": [
       "chararray(['L2B', 'L2B', 'L2B', 'L2B', 'L2B', 'L2B', 'L2B', 'L2B', 'L2B',\n",
       "           'L2B', 'L2B', 'L2B', 'L2B', 'L2B', 'L2B', 'L2B', 'L2B', 'L2B',\n",
       "           'L2B', 'L2B', 'L2B', 'L2B', 'L2B', 'L2B', 'L2B', 'L2B', 'L2B',\n",
       "           'L2B', 'L2B', 'L2B', 'L2B', 'L2B', 'L2B', 'L2B', 'L2B', 'L2B',\n",
       "           'L2B', 'L2B', 'L2B', 'L2B', 'L2B', 'L2B', 'L2B', 'L2B', 'L2B',\n",
       "           'L2B', 'L2B', 'L2B', 'L2B', 'L2B', 'L2B', 'L2B', 'L2B', 'L2B',\n",
       "           'L2B', 'L2B', 'L2B', 'L2B', '3', 'L2B', 'L2B', 'L2B', 'L2B',\n",
       "           'L2B', 'L2B', 'L2B', 'L2B', 'L2B', 'L2B', 'L2B', '3', 'L2B',\n",
       "           '3', '3', '3', '3', '3', '3', '3', '3', '3', '3', '3', '3', '3',\n",
       "           '3', '3', '3', '3', 'L2B', 'L2B', '3', 'L2B', 'C', 'C', 'C',\n",
       "           'C', 'C', '1', '1', '1', '1', '1', '1', '1', '1', 'C', '1', '1',\n",
       "           '1', '1', '1', '1', '1', '1', '1', 'C', 'V3W', '1', '1', 'C',\n",
       "           '1', '1', '1', '1', 'V3W', '1', '1', '1', '1', '1', '1', '1',\n",
       "           '1', '1', '1', '1', '1', '1', '1', '1', '1', '1', '1', '1',\n",
       "           'V3W', '1', 'V3W', 'V3W', '1', 'V3W', 'V3W', '1', '1', '1', '1',\n",
       "           '1', '1', 'V3W', 'V3W', 'V3W', 'V3W', 'V3W', 'V3W', 'V3W',\n",
       "           'V3W', 'V3W', 'V3W', 'V3W', 'V3W', 'V3W', 'V3W', 'V3W', 'V3W',\n",
       "           'V3W', 'V3W', 'V3W', 'V3W', 'V3W', 'R', 'R', 'V3C', 'V3C',\n",
       "           'V3W', 'V3W', 'V3C', 'V3W', 'V3C', 'V3W', 'V3W', 'R', 'V3W',\n",
       "           'V3C', 'V3C', 'V3C', 'V3C', 'V3C', 'R', 'R', 'V3C', 'R', 'V3R',\n",
       "           'V3R', 'V3R', 'V3R', 'V3R', 'R', 'V3R', 'R', 'R', 'R', 'V3R',\n",
       "           'V3R', 'V3R', 'V3R', 'R', 'R', 'V3R', 'V3R', 'V3R', 'V3R',\n",
       "           'V3R', 'V3R', 'V3R', 'R', 'V3R', 'R'],\n",
       "          dtype='<U20')"
      ]
     },
     "execution_count": 22,
     "metadata": {},
     "output_type": "execute_result"
    }
   ],
   "source": [
    "coData = co[1].data\n",
    "coData.field('SDSS_ID')"
   ]
  }
 ],
 "metadata": {
  "kernelspec": {
   "display_name": "Python 3",
   "language": "python",
   "name": "python3"
  },
  "language_info": {
   "codemirror_mode": {
    "name": "ipython",
    "version": 3
   },
   "file_extension": ".py",
   "mimetype": "text/x-python",
   "name": "python",
   "nbconvert_exporter": "python",
   "pygments_lexer": "ipython3",
   "version": "3.6.3"
  }
 },
 "nbformat": 4,
 "nbformat_minor": 2
}
